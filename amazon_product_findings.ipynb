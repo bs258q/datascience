{
  "nbformat": 4,
  "nbformat_minor": 0,
  "metadata": {
    "colab": {
      "provenance": []
    },
    "kernelspec": {
      "name": "python3",
      "display_name": "Python 3"
    },
    "language_info": {
      "name": "python"
    }
  },
  "cells": [
    {
      "cell_type": "code",
      "execution_count": 1,
      "metadata": {
        "colab": {
          "base_uri": "https://localhost:8080/"
        },
        "id": "rgxrf9wuU6Ei",
        "outputId": "ec7db09e-b618-46ad-cfd3-85cb5887e5d1"
      },
      "outputs": [
        {
          "output_type": "stream",
          "name": "stdout",
          "text": [
            "Requirement already satisfied: pandas in /usr/local/lib/python3.11/dist-packages (2.2.2)\n",
            "Requirement already satisfied: numpy in /usr/local/lib/python3.11/dist-packages (1.26.4)\n",
            "Requirement already satisfied: scikit-learn in /usr/local/lib/python3.11/dist-packages (1.6.1)\n",
            "Requirement already satisfied: nltk in /usr/local/lib/python3.11/dist-packages (3.9.1)\n",
            "Requirement already satisfied: gensim in /usr/local/lib/python3.11/dist-packages (4.3.3)\n",
            "Requirement already satisfied: python-dateutil>=2.8.2 in /usr/local/lib/python3.11/dist-packages (from pandas) (2.8.2)\n",
            "Requirement already satisfied: pytz>=2020.1 in /usr/local/lib/python3.11/dist-packages (from pandas) (2025.1)\n",
            "Requirement already satisfied: tzdata>=2022.7 in /usr/local/lib/python3.11/dist-packages (from pandas) (2025.1)\n",
            "Requirement already satisfied: scipy>=1.6.0 in /usr/local/lib/python3.11/dist-packages (from scikit-learn) (1.13.1)\n",
            "Requirement already satisfied: joblib>=1.2.0 in /usr/local/lib/python3.11/dist-packages (from scikit-learn) (1.4.2)\n",
            "Requirement already satisfied: threadpoolctl>=3.1.0 in /usr/local/lib/python3.11/dist-packages (from scikit-learn) (3.5.0)\n",
            "Requirement already satisfied: click in /usr/local/lib/python3.11/dist-packages (from nltk) (8.1.8)\n",
            "Requirement already satisfied: regex>=2021.8.3 in /usr/local/lib/python3.11/dist-packages (from nltk) (2024.11.6)\n",
            "Requirement already satisfied: tqdm in /usr/local/lib/python3.11/dist-packages (from nltk) (4.67.1)\n",
            "Requirement already satisfied: smart-open>=1.8.1 in /usr/local/lib/python3.11/dist-packages (from gensim) (7.1.0)\n",
            "Requirement already satisfied: six>=1.5 in /usr/local/lib/python3.11/dist-packages (from python-dateutil>=2.8.2->pandas) (1.17.0)\n",
            "Requirement already satisfied: wrapt in /usr/local/lib/python3.11/dist-packages (from smart-open>=1.8.1->gensim) (1.17.2)\n"
          ]
        }
      ],
      "source": [
        "!pip install pandas numpy scikit-learn nltk gensim"
      ]
    },
    {
      "cell_type": "code",
      "source": [
        "import pandas as pd\n",
        "import numpy as np\n",
        "import nltk\n",
        "from nltk.corpus import stopwords\n",
        "from sklearn.metrics.pairwise import cosine_similarity\n",
        "from gensim.models import KeyedVectors\n",
        "import re\n",
        "\n",
        "nltk.download('stopwords')\n",
        "nltk.download('punkt')\n",
        "\n",
        "# Load pre-trained GloVe embeddings (you might need to download a GloVe file)\n",
        "glove_file = 'glove.6B.100d.txt'  # Or a different GloVe file (e.g., 300d for higher dimensionality)\n",
        "embedding_dim = 100 # Adjust to match the GloVe dimension.\n",
        "glove_vectors = KeyedVectors.load_word2vec_format(glove_file, binary=False, no_header=True)\n",
        "\n",
        "def clean_text(text):\n",
        "    text = re.sub(r'[^\\w\\s]', '', str(text), re.UNICODE) #Remove punctuation\n",
        "    text = text.lower() #Lowercase\n",
        "    stop_words = stopwords.words('english') #Remove stop words\n",
        "    text = [word for word in text.split() if word not in stop_words]\n",
        "    text = \" \".join(text)\n",
        "    return text\n",
        "\n",
        "# Load the data (replace with your actual data loading)\n",
        "data = pd.read_csv('Dataset.csv', encoding = 'unicode_escape')\n",
        "\n",
        "# Check if 'TITLE' column exists, if not, skip the operation\n",
        "if 'TITLE' in data.columns:\n",
        "    data['TITLE'] = data['TITLE'].astype(str)\n",
        "    data['TITLE'] = data['TITLE'].apply(clean_text)\n",
        "else:\n",
        "    print(\"Column 'TITLE' not found in the DataFrame.\")\n",
        "\n",
        "# Check if 'DESCRIPTION' column exists, if not, skip the operation\n",
        "if 'DESCRIPTION' in data.columns:\n",
        "    data['DESCRIPTION'] = data['DESCRIPTION'].astype(str)\n",
        "    data['DESCRIPTION'] = data['DESCRIPTION'].apply(clean_text)\n",
        "else:\n",
        "    print(\"Column 'DESCRIPTION' not found in the DataFrame.\")\n",
        "\n",
        "#Drop NA rows\n",
        "data = data.dropna()\n",
        "\n",
        "#Only take a portion of the rows to make calculations manageable\n",
        "data = data.iloc[:500]\n",
        "\n",
        "print(data[['TITLE', 'DESCRIPTION']].head() if 'TITLE' in data.columns and 'DESCRIPTION' in data.columns else data.head())\n",
        "\n",
        "def get_embedding(text, embedding_dim, glove_vectors):\n",
        "    \"\"\"\n",
        "    Generates an embedding for the entire text using the average of the word vectors.\n",
        "    \"\"\"\n",
        "    words = text.split()\n",
        "    embeddings = []\n",
        "    for word in words:\n",
        "        if word in glove_vectors:\n",
        "            embeddings.append(glove_vectors[word])\n",
        "    if embeddings:\n",
        "        embeddings = np.array(embeddings)\n",
        "        return np.mean(embeddings, axis=0)\n",
        "    else:\n",
        "        return np.zeros(embedding_dim) # Return a zero vector if no words are found in GloVe\n",
        "\n",
        "def calculate_similarity(embedding1, embedding2):\n",
        "    \"\"\"\n",
        "    Calculates the cosine similarity between two embeddings.\n",
        "    \"\"\"\n",
        "    return cosine_similarity(embedding1.reshape(1, -1), embedding2.reshape(1, -1))[0][0]\n",
        "\n",
        "\n",
        "def find_similar_products(query, data, top_n=5):\n",
        "    \"\"\"\n",
        "    Finds the top N most similar products to a given query.\n",
        "    \"\"\"\n",
        "    query = clean_text(query)\n",
        "    query_embedding = get_embedding(query, embedding_dim, glove_vectors)\n",
        "\n",
        "    #Always create/recreate 'TITLE_EMBEDDING' to ensure it's calculated on the current data\n",
        "    #This is done to prevent issues when re-running the cell since `data` might be reset\n",
        "    if 'TITLE' in data.columns:\n",
        "        data['TITLE_EMBEDDING'] = data['TITLE'].apply(lambda x: get_embedding(x, embedding_dim, glove_vectors))\n",
        "    else:\n",
        "        print(\"Column 'TITLE' not found in the DataFrame. Cannot generate embeddings.\")\n",
        "        return pd.DataFrame() # Return empty DataFrame in case 'TITLE' is missing\n",
        "\n",
        "    data['QUERY_SIMILARITY'] = data['TITLE_EMBEDDING'].apply(lambda x: calculate_similarity(query_embedding, x))\n",
        "    similar_products = data.sort_values(by='QUERY_SIMILARITY', ascending=False).head(top_n)\n",
        "\n",
        "    return similar_products[['TITLE', 'QUERY_SIMILARITY']]\n",
        "\n",
        "# Example usage\n",
        "query = \"rtx laptop\"\n",
        "similar_products = find_similar_products(query, data)\n",
        "print(f\"Top 5 products similar to '{query}':\\n{similar_products}\")\n"
      ],
      "metadata": {
        "colab": {
          "base_uri": "https://localhost:8080/"
        },
        "id": "faK5NOg1VNJh",
        "outputId": "aebc9af1-61b1-4ed7-d685-27d77fa31093"
      },
      "execution_count": 33,
      "outputs": [
        {
          "output_type": "stream",
          "name": "stderr",
          "text": [
            "[nltk_data] Downloading package stopwords to /root/nltk_data...\n",
            "[nltk_data]   Package stopwords is already up-to-date!\n",
            "[nltk_data] Downloading package punkt to /root/nltk_data...\n",
            "[nltk_data]   Package punkt is already up-to-date!\n"
          ]
        },
        {
          "output_type": "stream",
          "name": "stdout",
          "text": [
            "Column 'TITLE' not found in the DataFrame.\n",
            "Column 'DESCRIPTION' not found in the DataFrame.\n",
            "                                 query  product_id esci_label      split\n",
            "0          trellis for climbing plants  B00L5K420S          I  generated\n",
            "1  bathroom countertop soap dispensers  B08FM2Q49N          E      train\n",
            "2     gifts for 4 year old girls dress  B07477HKFR          I       test\n",
            "3            amplifi gamerâs edition  B07HHHC8JB          E      train\n",
            "4                  over watch t-shirts  B0027V2EXQ          I  generated\n",
            "Column 'TITLE' not found in the DataFrame. Cannot generate embeddings.\n",
            "Top 5 products similar to 'rtx laptop':\n",
            "Empty DataFrame\n",
            "Columns: []\n",
            "Index: []\n"
          ]
        }
      ]
    },
    {
      "cell_type": "code",
      "source": [
        "# Example usage\n",
        "query = \"rtx laptop\"\n",
        "similar_products = find_similar_products(query, data)\n",
        "print(f\"Top 5 products similar to '{query}':\\n{similar_products}\")"
      ],
      "metadata": {
        "colab": {
          "base_uri": "https://localhost:8080/"
        },
        "id": "oBL2pVBbVNL_",
        "outputId": "c7018556-588f-4c5c-fbb1-7f4fedfdef70"
      },
      "execution_count": 32,
      "outputs": [
        {
          "output_type": "stream",
          "name": "stdout",
          "text": [
            "Column 'TITLE' not found in the DataFrame. Cannot generate embeddings.\n",
            "Top 5 products similar to 'rtx laptop':\n",
            "Empty DataFrame\n",
            "Columns: []\n",
            "Index: []\n"
          ]
        }
      ]
    },
    {
      "cell_type": "code",
      "source": [],
      "metadata": {
        "id": "DRCgCxXoVNOg"
      },
      "execution_count": null,
      "outputs": []
    },
    {
      "cell_type": "code",
      "source": [],
      "metadata": {
        "id": "dpndpnQ-VNVu"
      },
      "execution_count": null,
      "outputs": []
    }
  ]
}